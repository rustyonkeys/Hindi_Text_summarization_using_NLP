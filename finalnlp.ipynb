{
  "cells": [
    {
      "cell_type": "markdown",
      "source": [
        "# Download Hindi resources for NLTK"
      ],
      "metadata": {
        "id": "AEhQhEoam7o_"
      }
    },
    {
      "cell_type": "code",
      "execution_count": 1,
      "metadata": {
        "colab": {
          "base_uri": "https://localhost:8080/"
        },
        "id": "QtFSwRciWcu3",
        "outputId": "68d6cb78-fb2b-4ae6-ed9e-769f699e9144"
      },
      "outputs": [
        {
          "output_type": "stream",
          "name": "stderr",
          "text": [
            "[nltk_data] Downloading package stopwords to /root/nltk_data...\n",
            "[nltk_data]   Unzipping corpora/stopwords.zip.\n"
          ]
        }
      ],
      "source": [
        "import nltk\n",
        "try:\n",
        "    nltk.data.find('corpora/stopwords')\n",
        "except LookupError:\n",
        "    nltk.download('stopwords')"
      ]
    },
    {
      "cell_type": "markdown",
      "source": [
        "# Emoji pattern and other special character removal\n"
      ],
      "metadata": {
        "id": "LrReUzijnDJF"
      }
    },
    {
      "cell_type": "code",
      "execution_count": 2,
      "metadata": {
        "colab": {
          "base_uri": "https://localhost:8080/"
        },
        "id": "V6ZD2bQBWGeC",
        "outputId": "7d85dc3e-d973-4025-ba42-b3945fecae65"
      },
      "outputs": [
        {
          "output_type": "stream",
          "name": "stderr",
          "text": [
            "[nltk_data] Downloading package punkt to /root/nltk_data...\n",
            "[nltk_data]   Unzipping tokenizers/punkt.zip.\n"
          ]
        }
      ],
      "source": [
        "import re\n",
        "import nltk\n",
        "from sklearn.feature_extraction.text import TfidfVectorizer\n",
        "\n",
        "# Download Hindi resources for NLTK\n",
        "nltk.download('punkt')\n",
        "\n",
        "# Emoji pattern for removal\n",
        "emoji_pattern = re.compile(\"[\"\n",
        "    u\"\\U0001F600-\\U0001F64F\"  # emoticons\n",
        "    u\"\\U0001F300-\\U0001F5FF\"  # symbols & pictographs\n",
        "    u\"\\U0001F680-\\U0001F6FF\"  # transport & map symbols\n",
        "    u\"\\U0001F1E0-\\U0001F1FF\"  # flags (iOS)\n",
        "    u\"\\U00002500-\\U00002BEF\"  # chinese char\n",
        "    u\"\\U00002702-\\U000027B0\"\n",
        "    u\"\\U00002702-\\U000027B0\"\n",
        "    u\"\\U000024C2-\\U0001F251\"\n",
        "    u\"\\U0001f926-\\U0001f937\"\n",
        "    u\"\\U00010000-\\U0010ffff\"\n",
        "    u\"\\u2640-\\u2642\"\n",
        "    u\"\\u2600-\\u2B55\"\n",
        "    u\"\\u200d\"\n",
        "    u\"\\u23cf\"\n",
        "    u\"\\u23e9\"\n",
        "    u\"\\u231a\"\n",
        "    u\"\\ufe0f\"  # dingbats\n",
        "    u\"\\u3030\"\n",
        "    \"]+\", flags=re.UNICODE)\n",
        "\n",
        "# Hindi stopwords list (expanded)\n",
        "HINDI_STOPWORDS = {\n",
        "    'अंदर', 'अत', 'अदि', 'अप', 'अपना', 'अपनि', 'अपनी', 'अपने', 'अभि', 'अभी', 'आदि',\n",
        "    # ... (rest of your stopwords remain the same)\n",
        "    'होते', 'होना', 'होने'\n",
        "}\n",
        "\n"
      ]
    },
    {
      "cell_type": "markdown",
      "source": [
        "# **Data Preprocessing**"
      ],
      "metadata": {
        "id": "cxeeEvwhnQC5"
      }
    },
    {
      "cell_type": "code",
      "execution_count": 3,
      "metadata": {
        "id": "UEm2v6lkWHUq"
      },
      "outputs": [],
      "source": [
        "def preprocess_text(text):\n",
        "    \"\"\"Clean and normalize Hindi text\"\"\"\n",
        "    # Remove emojis\n",
        "    text = emoji_pattern.sub(r'', str(text))\n",
        "    # Remove URLs\n",
        "    text = re.sub(r'http\\S+|www\\S+|https\\S+', '', text, flags=re.MULTILINE)\n",
        "    # Remove special characters except Hindi punctuation\n",
        "    text = re.sub(r'[^\\w\\u0900-\\u097F।?!,.]+', ' ', text)\n",
        "    # Normalize whitespace\n",
        "    text = re.sub(r'\\s+', ' ', text).strip()\n",
        "    return text"
      ]
    },
    {
      "cell_type": "markdown",
      "source": [
        "# **Custom Hindi sentence tokenizer**"
      ],
      "metadata": {
        "id": "jaU81Glene6g"
      }
    },
    {
      "cell_type": "code",
      "source": [
        "def hindi_sentence_tokenize(text):\n",
        "\n",
        "    sentences = []\n",
        "    current = []\n",
        "    for char in text:\n",
        "        current.append(char)\n",
        "        if char in {'।', '?', '!'}:\n",
        "            sentences.append(''.join(current).strip())\n",
        "            current = []\n",
        "    if current:\n",
        "        sentences.append(''.join(current).strip())\n",
        "    return [s for s in sentences if s]"
      ],
      "metadata": {
        "id": "gZxQkjBXneme"
      },
      "execution_count": 4,
      "outputs": []
    },
    {
      "cell_type": "markdown",
      "source": [
        "#**Tokenization - Sentence Tokenization and Word**\n",
        "#**TF-IDF Calculation, Sentence Scoring.**"
      ],
      "metadata": {
        "id": "19ucShBrnmTH"
      }
    },
    {
      "cell_type": "code",
      "source": [
        "def hindi_word_tokenize(text):\n",
        "    return re.findall(r\"[\\w\\u0900-\\u097F]+\", text)\n",
        "\n",
        "def hindi_text_summarizer(text):\n",
        "    # Step 1: Preprocess and clean text\n",
        "    cleaned_text = preprocess_text(text)\n",
        "\n",
        "    # Step 2: Sentence Tokenization\n",
        "    sentences = hindi_sentence_tokenize(cleaned_text)\n",
        "\n",
        "    # Step 3: Word Tokenization and Text Cleaning\n",
        "    preprocessed_sentences = []\n",
        "    for sentence in sentences:\n",
        "        words = hindi_word_tokenize(sentence)\n",
        "        cleaned_words = [word for word in words\n",
        "                       if word not in HINDI_STOPWORDS and len(word) > 1]\n",
        "        preprocessed_sentences.append(' '.join(cleaned_words))\n",
        "\n",
        "            # Step 4: TF-IDF Calculation\n",
        "    vectorizer = TfidfVectorizer()\n",
        "    try:\n",
        "        tfidf_matrix = vectorizer.fit_transform(preprocessed_sentences)\n",
        "    except ValueError:\n",
        "        return \"Unable to generate summary (text may be too short or contain no meaningful words)\"\n",
        "\n",
        "    # Step 5: Sentence Scoring\n",
        "    sentence_scores = {}\n",
        "    for i, sentence in enumerate(preprocessed_sentences):\n",
        "        score = sum(\n",
        "            tfidf_matrix[i, vectorizer.vocabulary_[word]]\n",
        "            for word in sentence.split()\n",
        "            if word in vectorizer.vocabulary_\n",
        "        )\n",
        "        sentence_scores[i] = score\n",
        "\n",
        "    # Select important sentences (30-50% of original)\n",
        "    select_length = max(1, min(len(sentences), len(sentences)//3))\n",
        "    top_sentences = sorted(sentence_scores.items(), key=lambda x: x[1], reverse=True)[:select_length]\n",
        "\n",
        "    # Step 6: Generate Summary\n",
        "    selected_indices = sorted([i for i, _ in top_sentences])\n",
        "    summary = ' '.join([sentences[i] for i in selected_indices]).strip()\n",
        "\n",
        "    # Add proper punctuation if missing\n",
        "    if summary and not any(summary.endswith(p) for p in ['।', '?', '!']):\n",
        "        summary += '।'\n",
        "\n",
        "    return summary if summary else \"No summary could be generated\"\n",
        "\n"
      ],
      "metadata": {
        "id": "khwOT4_-nmA8"
      },
      "execution_count": 5,
      "outputs": []
    },
    {
      "cell_type": "markdown",
      "source": [
        "# **Input**"
      ],
      "metadata": {
        "id": "sGG68Hgqn25_"
      }
    },
    {
      "cell_type": "code",
      "source": [
        "\n",
        "\n",
        "if __name__ == \"__main__\":\n",
        "    print(\"हिंदी पाठ सारांशकर्ता\")\n",
        "    print(\"---------------------\")\n",
        "    print(\"कृपया हिंदी पाठ दर्ज करें (समाप्त करने के लिए केवल 'समाप्त' लिखें):\\n\")\n",
        "\n",
        "    while True:\n",
        "        hindi_text = input()\n",
        "        if hindi_text.lower().strip() == 'समाप्त':\n",
        "            break\n",
        "\n",
        "        summary = hindi_text_summarizer(hindi_text)\n",
        "\n",
        "        print(\"\\nमूल पाठ लंबाई:\", len(hindi_text), \"वर्ण\")\n",
        "        print(\"सारांश लंबाई:\", len(summary), \"वर्ण\")\n",
        "        print(\"\\nसारांश:\")\n",
        "        print(summary)\n",
        "        print(\"\\n---------------------\")\n",
        "        print(\"अगला पाठ दर्ज करें या 'समाप्त' लिखें:\")"
      ],
      "metadata": {
        "id": "AKnPvg95n2oW",
        "outputId": "92a62af1-21af-4867-e30b-dc7fdbf486cf",
        "colab": {
          "base_uri": "https://localhost:8080/"
        }
      },
      "execution_count": null,
      "outputs": [
        {
          "output_type": "stream",
          "name": "stdout",
          "text": [
            "हिंदी पाठ सारांशकर्ता\n",
            "---------------------\n",
            "कृपया हिंदी पाठ दर्ज करें (समाप्त करने के लिए केवल 'समाप्त' लिखें):\n",
            "\n",
            "आज के व्यस्त जीवन में हर कोई अपनी दिनचर्या में कुछ न कुछ बदलाव चाहता है. सुबह जल्दी उठना और व्यायाम करना स्वस्थ रहने के लिए बहुत ज़रूरी है. एक अच्छी दिनचर्या हमें अनुशासित रहने और समय पर अपने कार्य पूरे करने में मदद करती है. पौष्टिक नाश्ता करना और समय पर स्कूल या काम पर जाना भी महत्वपूर्ण है. शाम को दोस्तों के साथ या परिवार के साथ समय बिताना हमारे मन को शांत करता है.\n",
            "\n",
            "मूल पाठ लंबाई: 369 वर्ण\n",
            "सारांश लंबाई: 370 वर्ण\n",
            "\n",
            "सारांश:\n",
            "आज के व्यस्त जीवन में हर कोई अपनी दिनचर्या में कुछ न कुछ बदलाव चाहता है. सुबह जल्दी उठना और व्यायाम करना स्वस्थ रहने के लिए बहुत ज़रूरी है. एक अच्छी दिनचर्या हमें अनुशासित रहने और समय पर अपने कार्य पूरे करने में मदद करती है. पौष्टिक नाश्ता करना और समय पर स्कूल या काम पर जाना भी महत्वपूर्ण है. शाम को दोस्तों के साथ या परिवार के साथ समय बिताना हमारे मन को शांत करता है.।\n",
            "\n",
            "---------------------\n",
            "अगला पाठ दर्ज करें या 'समाप्त' लिखें:\n",
            "आज की दुनिया में पर्यावरण संरक्षण एक ऐसा गंभीर विषय बन गया है जिस पर तुरंत ध्यान देने की आवश्यकता है। जिस तरह से औद्योगीकरण और शहरीकरण की दौड़ में हमने प्रकृति का दोहन किया है, उसका खामियाजा अब हम भुगत रहे हैं। प्रदूषण, ग्लोबल वार्मिंग, और प्राकृतिक संसाधनों का अत्यधिक उपयोग जैसी समस्याओं ने हमारी पृथ्वी के पारिस्थितिकी तंत्र को खतरे में डाल दिया है। हमें यह समझना होगा कि हमारा अस्तित्व सीधे तौर पर स्वस्थ पर्यावरण से जुड़ा हुआ है। स्वच्छ हवा, पानी और उपजाऊ भूमि के बिना जीवन की कल्पना भी नहीं की जा सकती। लेकिन हमारी अनियंत्रित गतिविधियों के कारण ये सभी खतरे में हैं। ABP News कहता है कि पर्यावरण संरक्षण के लिए हमें व्यक्तिगत और सामूहिक दोनों स्तरों पर प्रयास करने होंगे. हमें अपनी जीवनशैली में बदलाव लाना होगा, जैसे कि बिजली के स्थान पर सौर ऊर्जा या पवन ऊर्जा का उपयोग करना, और अनावश्यक उपभोग से बचना। हमें पेड़ों को काटना बंद करके अधिक से अधिक पेड़ लगाने चाहिए, YouTube के एक वीडियो में कहा गया है और वनों की कटाई को रोकना होगा। सरकार और व्यवसायों को भी इस दिशा में सक्रिय कदम उठाने होंगे। उन्हें हरित नीतियों को लागू करना होगा, नवीकरणीय ऊर्जा स्रोतों में निवेश करना होगा और पर्यावरण-अनुकूल प्रथाओं को बढ़ावा देना होगा। प्रदूषण के खिलाफ सख्त कानून लागू किए जाने चाहिए और लोगों को जागरूक करने के लिए अभियान चलाने होंगे। पर्यावरण संरक्षण केवल एक कर्तव्य नहीं, बल्कि एक आवश्यकता है। यदि हम अभी नहीं जागेंगे, तो आने वाली पीढ़ियों के लिए एक स्वस्थ और सुरक्षित भविष्य सुनिश्चित करना मुश्किल हो जाएगा। यह हम सभी की जिम्मेदारी है कि हम अपनी पृथ्वी को बचाएं और उसे आने वाली पीढ़ियों के लिए एक बेहतर जगह बनाएं।\n",
            "\n",
            "मूल पाठ लंबाई: 1507 वर्ण\n",
            "सारांश लंबाई: 504 वर्ण\n",
            "\n",
            "सारांश:\n",
            "आज की दुनिया में पर्यावरण संरक्षण एक ऐसा गंभीर विषय बन गया है जिस पर तुरंत ध्यान देने की आवश्यकता है। ABP News कहता है कि पर्यावरण संरक्षण के लिए हमें व्यक्तिगत और सामूहिक दोनों स्तरों पर प्रयास करने होंगे. हमें अपनी जीवनशैली में बदलाव लाना होगा, जैसे कि बिजली के स्थान पर सौर ऊर्जा या पवन ऊर्जा का उपयोग करना, और अनावश्यक उपभोग से बचना। सरकार और व्यवसायों को भी इस दिशा में सक्रिय कदम उठाने होंगे। यह हम सभी की जिम्मेदारी है कि हम अपनी पृथ्वी को बचाएं और उसे आने वाली पीढ़ियों के लिए एक बेहतर जगह बनाएं।\n",
            "\n",
            "---------------------\n",
            "अगला पाठ दर्ज करें या 'समाप्त' लिखें:\n"
          ]
        }
      ]
    }
  ],
  "metadata": {
    "colab": {
      "provenance": []
    },
    "kernelspec": {
      "display_name": "Python 3",
      "name": "python3"
    },
    "language_info": {
      "name": "python"
    }
  },
  "nbformat": 4,
  "nbformat_minor": 0
}